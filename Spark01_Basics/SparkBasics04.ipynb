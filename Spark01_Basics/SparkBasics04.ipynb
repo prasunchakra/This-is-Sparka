{
 "cells": [
  {
   "cell_type": "code",
   "execution_count": 1,
   "metadata": {},
   "outputs": [],
   "source": [
    "from pyspark.accumulators import AccumulatorParam"
   ]
  },
  {
   "cell_type": "markdown",
   "metadata": {},
   "source": [
    "#### Creating Custom Accumulator"
   ]
  },
  {
   "cell_type": "code",
   "execution_count": 3,
   "metadata": {},
   "outputs": [],
   "source": [
    "class VectorAccumulatorParam(AccumulatorParam):\n",
    "    \n",
    "    def zero(self, value):\n",
    "        '''\n",
    "        Initialize the accumulator when first created\n",
    "        '''\n",
    "        return [0.0] * len(value)\n",
    "    \n",
    "    def addInPlace(self, v1, v2):\n",
    "        '''\n",
    "        Add to the current accumulated vector values\n",
    "        '''\n",
    "        for i in range(len(v1)):\n",
    "            v1[i] += v2[i]\n",
    "        return v1"
   ]
  },
  {
   "cell_type": "code",
   "execution_count": 4,
   "metadata": {},
   "outputs": [
    {
     "data": {
      "text/plain": [
       "Accumulator<id=0, value=[10.0, 20.0, 30.0]>"
      ]
     },
     "execution_count": 4,
     "metadata": {},
     "output_type": "execute_result"
    }
   ],
   "source": [
    "vector_accum = sc.accumulator([10.0,20.0,30.0],VectorAccumulatorParam())\n",
    "vector_accum"
   ]
  },
  {
   "cell_type": "code",
   "execution_count": 5,
   "metadata": {},
   "outputs": [
    {
     "data": {
      "text/plain": [
       "Accumulator<id=0, value=[11.0, 22.0, 33.0]>"
      ]
     },
     "execution_count": 5,
     "metadata": {},
     "output_type": "execute_result"
    }
   ],
   "source": [
    "vector_accum += [1, 2, 3]\n",
    "vector_accum"
   ]
  },
  {
   "cell_type": "markdown",
   "metadata": {},
   "source": [
    "####  Joins in Spark"
   ]
  },
  {
   "cell_type": "code",
   "execution_count": 8,
   "metadata": {},
   "outputs": [],
   "source": [
    "valuesA = [('John', 100000), ('James', 150000), ('Emily', 65000), ('Nina', 200000)]\n",
    "tableA = spark.createDataFrame(valuesA, ['name', 'salary'])\n",
    "\n",
    "valuesB = [('James', 2), ('Emily',3), ('Darth Vader', 5), ('Princess Leia', 6),]\n",
    "tableB = spark.createDataFrame(valuesB, ['name', 'employee_id'])"
   ]
  },
  {
   "cell_type": "code",
   "execution_count": 9,
   "metadata": {},
   "outputs": [
    {
     "name": "stdout",
     "output_type": "stream",
     "text": [
      "+-----+------+\n",
      "| name|salary|\n",
      "+-----+------+\n",
      "| John|100000|\n",
      "|James|150000|\n",
      "|Emily| 65000|\n",
      "| Nina|200000|\n",
      "+-----+------+\n",
      "\n"
     ]
    }
   ],
   "source": [
    "tableA.show()"
   ]
  },
  {
   "cell_type": "code",
   "execution_count": 10,
   "metadata": {},
   "outputs": [
    {
     "name": "stdout",
     "output_type": "stream",
     "text": [
      "+-------------+-----------+\n",
      "|         name|employee_id|\n",
      "+-------------+-----------+\n",
      "|        James|          2|\n",
      "|        Emily|          3|\n",
      "|  Darth Vader|          5|\n",
      "|Princess Leia|          6|\n",
      "+-------------+-----------+\n",
      "\n"
     ]
    }
   ],
   "source": [
    "tableB.show()"
   ]
  },
  {
   "cell_type": "code",
   "execution_count": 11,
   "metadata": {},
   "outputs": [
    {
     "name": "stdout",
     "output_type": "stream",
     "text": [
      "+-----+------+-----+-----------+\n",
      "| name|salary| name|employee_id|\n",
      "+-----+------+-----+-----------+\n",
      "|James|150000|James|          2|\n",
      "|Emily| 65000|Emily|          3|\n",
      "+-----+------+-----+-----------+\n",
      "\n"
     ]
    }
   ],
   "source": [
    "# Inner Join\n",
    "tableA.join(tableB, tableA.name == tableB.name).show()"
   ]
  },
  {
   "cell_type": "code",
   "execution_count": 12,
   "metadata": {},
   "outputs": [
    {
     "name": "stdout",
     "output_type": "stream",
     "text": [
      "+-----+------+-----+-----------+\n",
      "| name|salary| name|employee_id|\n",
      "+-----+------+-----+-----------+\n",
      "|James|150000|James|          2|\n",
      "| John|100000| null|       null|\n",
      "|Emily| 65000|Emily|          3|\n",
      "| Nina|200000| null|       null|\n",
      "+-----+------+-----+-----------+\n",
      "\n"
     ]
    }
   ],
   "source": [
    "# Left Outer Join\n",
    "tableA.join(tableB, tableA.name == tableB.name, how='left').show()"
   ]
  },
  {
   "cell_type": "code",
   "execution_count": 13,
   "metadata": {},
   "outputs": [
    {
     "name": "stdout",
     "output_type": "stream",
     "text": [
      "+-----+-----------+-----+------+\n",
      "| name|employee_id| name|salary|\n",
      "+-----+-----------+-----+------+\n",
      "|James|          2|James|150000|\n",
      "| null|       null| John|100000|\n",
      "|Emily|          3|Emily| 65000|\n",
      "| null|       null| Nina|200000|\n",
      "+-----+-----------+-----+------+\n",
      "\n"
     ]
    }
   ],
   "source": [
    "# Right Outer Join\n",
    "tableB.join(tableA, tableA.name == tableB.name, how='right').show()"
   ]
  },
  {
   "cell_type": "code",
   "execution_count": 14,
   "metadata": {},
   "outputs": [
    {
     "name": "stdout",
     "output_type": "stream",
     "text": [
      "+-------------+-----------+-----+------+\n",
      "|         name|employee_id| name|salary|\n",
      "+-------------+-----------+-----+------+\n",
      "|        James|          2|James|150000|\n",
      "|         null|       null| John|100000|\n",
      "|Princess Leia|          6| null|  null|\n",
      "|        Emily|          3|Emily| 65000|\n",
      "|         null|       null| Nina|200000|\n",
      "|  Darth Vader|          5| null|  null|\n",
      "+-------------+-----------+-----+------+\n",
      "\n"
     ]
    }
   ],
   "source": [
    "# Full Outer Join\n",
    "tableB.join(tableA, tableA.name == tableB.name, how='full').show()"
   ]
  }
 ],
 "metadata": {
  "kernelspec": {
   "display_name": "Python 3",
   "language": "python",
   "name": "python3"
  },
  "language_info": {
   "codemirror_mode": {
    "name": "ipython",
    "version": 3
   },
   "file_extension": ".py",
   "mimetype": "text/x-python",
   "name": "python",
   "nbconvert_exporter": "python",
   "pygments_lexer": "ipython3",
   "version": "3.6.9"
  }
 },
 "nbformat": 4,
 "nbformat_minor": 4
}
